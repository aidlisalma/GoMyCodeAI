{
  "nbformat": 4,
  "nbformat_minor": 0,
  "metadata": {
    "colab": {
      "name": "Knn Checkpoint.ipynb",
      "provenance": [],
      "collapsed_sections": [],
      "authorship_tag": "ABX9TyPRzIPCbPmxLF3W8dRfxmH2"
    },
    "kernelspec": {
      "name": "python3",
      "display_name": "Python 3"
    }
  },
  "cells": [
    {
      "cell_type": "code",
      "metadata": {
        "id": "rpOx_K2Vw_ZN"
      },
      "source": [
        "#importing librairies\n",
        "import pandas as pd\n",
        "from sklearn.preprocessing import LabelEncoder\n",
        "import seaborn as sns\n",
        "import  matplotlib.pyplot as plt\n",
        "from sklearn.model_selection import train_test_split\n",
        "from sklearn.neighbors import KNeighborsClassifier\n",
        "from sklearn.metrics import accuracy_score\n",
        "import math\n",
        "import operator\n",
        "import random\n",
        "import csv"
      ],
      "execution_count": null,
      "outputs": []
    },
    {
      "cell_type": "code",
      "metadata": {
        "colab": {
          "base_uri": "https://localhost:8080/"
        },
        "id": "KzyV5Qx4LGgo",
        "outputId": "54bcd4bc-d709-420b-ed5f-7b251f1c26b7"
      },
      "source": [
        "from google.colab import drive\n",
        "drive.mount('/content/drive')"
      ],
      "execution_count": null,
      "outputs": [
        {
          "output_type": "stream",
          "text": [
            "Drive already mounted at /content/drive; to attempt to forcibly remount, call drive.mount(\"/content/drive\", force_remount=True).\n"
          ],
          "name": "stdout"
        }
      ]
    },
    {
      "cell_type": "code",
      "metadata": {
        "id": "RiIc7_DZxryS"
      },
      "source": [
        "df=open('/content/drive/MyDrive/GoMyCode/iris.data.txt','r')"
      ],
      "execution_count": null,
      "outputs": []
    },
    {
      "cell_type": "code",
      "metadata": {
        "id": "gLSL2Rr_yFj8"
      },
      "source": [
        "lines = csv.reader(df)"
      ],
      "execution_count": null,
      "outputs": []
    },
    {
      "cell_type": "code",
      "metadata": {
        "id": "ZeE1tYRByIFB"
      },
      "source": [
        "for row in lines :\n",
        "\n",
        "  print (', '.join(row))"
      ],
      "execution_count": null,
      "outputs": []
    },
    {
      "cell_type": "code",
      "metadata": {
        "id": "bxO2WkKiyMXQ"
      },
      "source": [
        "def loadDataset(filename, split, trainingSet=[] , testSet=[]):\n",
        "\n",
        "    with open(filename, 'r') as csvfile:\n",
        "        lines = csv.reader(csvfile)\n",
        "        dataset = list(lines)\n",
        "        for x in range(len(dataset)-1):\n",
        "            for y in range(4):\n",
        "                dataset[x][y] = float(dataset[x][y])\n",
        "            if random.random() < split:\n",
        "                trainingSet.append(dataset[x])\n",
        "            else:\n",
        "                testSet.append(dataset[x])\n",
        "    return dataset,trainingSet,testSet"
      ],
      "execution_count": null,
      "outputs": []
    },
    {
      "cell_type": "code",
      "metadata": {
        "colab": {
          "base_uri": "https://localhost:8080/"
        },
        "id": "Zh3LZrKgyQIw",
        "outputId": "4ba08e5a-d3ed-4b99-dae4-fde5185e3de6"
      },
      "source": [
        "trainingSet=[]\n",
        "testSet=[]\n",
        "loadDataset('/content/drive/MyDrive/GoMyCode/iris.data.txt', 0.66, trainingSet, testSet)\n",
        "print('Train: ' + repr(len(trainingSet)))\n",
        "print('Test: ' + repr(len(testSet)) )"
      ],
      "execution_count": null,
      "outputs": [
        {
          "output_type": "stream",
          "text": [
            "Train: 97\n",
            "Test: 52\n"
          ],
          "name": "stdout"
        }
      ]
    },
    {
      "cell_type": "code",
      "metadata": {
        "id": "UV-rbTiAyaBI"
      },
      "source": [
        "def euclideanDistance(instance1, instance2, length):\n",
        "    s=0;\n",
        "    for i in range(length-1):\n",
        "        s=s+(instance1[i]-instance2[i])**2\n",
        "    return math.sqrt(s)"
      ],
      "execution_count": null,
      "outputs": []
    },
    {
      "cell_type": "code",
      "metadata": {
        "colab": {
          "base_uri": "https://localhost:8080/"
        },
        "id": "tsZ0r_URy4NU",
        "outputId": "a33b87e1-4c79-4ba7-c15f-db28e41601f7"
      },
      "source": [
        "data1 = [2, 2, 2, 'a']\n",
        "\n",
        "data2 = [4, 4, 4, 'b']\n",
        "\n",
        "distance = euclideanDistance(data1, data2, 3)\n",
        "\n",
        "print ('Distance: ' + repr(distance))"
      ],
      "execution_count": null,
      "outputs": [
        {
          "output_type": "stream",
          "text": [
            "Distance: 2.8284271247461903\n"
          ],
          "name": "stdout"
        }
      ]
    },
    {
      "cell_type": "code",
      "metadata": {
        "id": "e4U_xLa-L9zR"
      },
      "source": [
        "def getNeighbors(trainingSet, testInstance, k):\n",
        "\n",
        "    distances = []\n",
        "\n",
        "    length = len(testInstance)-1\n",
        "\n",
        "    for x in range(len(trainingSet)):\n",
        "\n",
        "        dist = euclideanDistance(testInstance, trainingSet[x], length)\n",
        "\n",
        "        distances.append((trainingSet[x], dist))\n",
        "\n",
        "    distances.sort(key=operator.itemgetter(1))\n",
        "\n",
        "    neighbors = []\n",
        "\n",
        "    for x in range(k):\n",
        "\n",
        "        neighbors.append(distances[x][0])\n",
        "\n",
        "    return neighbors"
      ],
      "execution_count": null,
      "outputs": []
    },
    {
      "cell_type": "code",
      "metadata": {
        "colab": {
          "base_uri": "https://localhost:8080/"
        },
        "id": "V9r1Ij33N08c",
        "outputId": "8cc8d138-6fa4-4e6d-b77b-034d2f4b3ec4"
      },
      "source": [
        "trainSet = [[2, 2, 2, 'a'], [4, 4, 4, 'b']]\n",
        "\n",
        "testInstance = [5, 5, 5]\n",
        "\n",
        "k = 1\n",
        "\n",
        "neighbors = getNeighbors(trainSet, testInstance, 1)\n",
        "\n",
        "print(neighbors)"
      ],
      "execution_count": null,
      "outputs": [
        {
          "output_type": "stream",
          "text": [
            "[[4, 4, 4, 'b']]\n"
          ],
          "name": "stdout"
        }
      ]
    },
    {
      "cell_type": "code",
      "metadata": {
        "id": "LOKN_ph7L8Jm"
      },
      "source": [
        "def getResponse(neighbors):\n",
        "\n",
        "    classVotes = {}\n",
        "\n",
        "    for x in range(len(neighbors)):\n",
        "\n",
        "        response = neighbors[x][3]\n",
        "\n",
        "        if response in classVotes:\n",
        "\n",
        "            classVotes[response]+=1\n",
        "        else:\n",
        "            classVotes[response]=1\n",
        "\n",
        "    sortedVotes = sorted(classVotes.items(), key=operator.itemgetter(1), reverse=True)\n",
        "\n",
        "    return sortedVotes[0][0]"
      ],
      "execution_count": null,
      "outputs": []
    },
    {
      "cell_type": "code",
      "metadata": {
        "id": "s4znVLfdOHPd",
        "colab": {
          "base_uri": "https://localhost:8080/"
        },
        "outputId": "3aef2c07-2ab3-4ae4-f1e6-f3ea50ed1b7d"
      },
      "source": [
        "neighbors = [[1,1,1,'a'], [2,2,2,'a'], [3,3,3,'b']]\n",
        "\n",
        "response = getResponse(neighbors)\n",
        "\n",
        "print(response)"
      ],
      "execution_count": null,
      "outputs": [
        {
          "output_type": "stream",
          "text": [
            "a\n"
          ],
          "name": "stdout"
        }
      ]
    },
    {
      "cell_type": "code",
      "metadata": {
        "id": "gOETv9lzcBaj"
      },
      "source": [
        "def getAccuracy(testSet, predictions):\n",
        "    correct=0\n",
        "    for i in range(len(predictions)):\n",
        "        if testSet[i][3]==predictions[i]:\n",
        "            correct=correct+1\n",
        "    return ((correct/float(len(testSet))) * 100.0)"
      ],
      "execution_count": null,
      "outputs": []
    },
    {
      "cell_type": "code",
      "metadata": {
        "colab": {
          "base_uri": "https://localhost:8080/"
        },
        "id": "co4QsyfBcGsj",
        "outputId": "baf7a908-cc12-4ecb-bde9-250b255b8ce3"
      },
      "source": [
        "testSet = [[1,1,1,'a'], [2,2,2,'a'], [3,3,3,'b']]\n",
        "predictions = ['a', 'a', 'a']\n",
        "accuracy = getAccuracy(testSet, predictions)\n",
        "print(accuracy)"
      ],
      "execution_count": null,
      "outputs": [
        {
          "output_type": "stream",
          "text": [
            "66.66666666666666\n"
          ],
          "name": "stdout"
        }
      ]
    },
    {
      "cell_type": "code",
      "metadata": {
        "id": "LFPe8vnIcRZf"
      },
      "source": [
        "def Main(filename,split):\n",
        "    trainingSet=[]\n",
        "    testSet=[]\n",
        "    predicted=[]\n",
        "    loadDataset(filename, split, trainingSet, testSet)\n",
        "    print ('Train: ' + repr(len(trainingSet)))\n",
        "    print ('Test: ' + repr(len(testSet)) )\n",
        "    k=int(input(\"Enter value of k\"))\n",
        "    for testInstance in testSet:    \n",
        "        neighbors = getNeighbors(trainingSet, testInstance, k)\n",
        "        predicted.append(getResponse(neighbors))\n",
        "    accuracy=getAccuracy(testSet,predicted)\n",
        "    print(accuracy)"
      ],
      "execution_count": null,
      "outputs": []
    },
    {
      "cell_type": "code",
      "metadata": {
        "colab": {
          "base_uri": "https://localhost:8080/"
        },
        "id": "8wPMlH1RchIX",
        "outputId": "0b172555-bcf0-4fcb-93be-852a3b80651e"
      },
      "source": [
        "Main('/content/drive/MyDrive/GoMyCode/iris.data.txt', 0.66)"
      ],
      "execution_count": null,
      "outputs": [
        {
          "output_type": "stream",
          "text": [
            "Train: 99\n",
            "Test: 50\n",
            "Enter value of k3\n",
            "28.000000000000004\n"
          ],
          "name": "stdout"
        }
      ]
    },
    {
      "cell_type": "code",
      "metadata": {
        "id": "NZ0uL8YeX6Rx"
      },
      "source": [
        "def ManhattanDistance(instance1, instance2, length):\n",
        "    s=0;\n",
        "    for i in range(length-1):\n",
        "        s=s+abs(instance1[i]-instance2[i])\n",
        "    return s"
      ],
      "execution_count": null,
      "outputs": []
    },
    {
      "cell_type": "code",
      "metadata": {
        "colab": {
          "base_uri": "https://localhost:8080/"
        },
        "id": "tjij8IajcQtQ",
        "outputId": "2a5fbdd9-5d95-4ebe-d48c-31d14e042f99"
      },
      "source": [
        "distance = ManhattanDistance(data1, data2, 3)\n",
        "\n",
        "print ('Distance: ' + repr(distance))"
      ],
      "execution_count": null,
      "outputs": [
        {
          "output_type": "stream",
          "text": [
            "Distance: 4\n"
          ],
          "name": "stdout"
        }
      ]
    },
    {
      "cell_type": "code",
      "metadata": {
        "id": "JEmdf7BjeGRj"
      },
      "source": [
        ""
      ],
      "execution_count": null,
      "outputs": []
    }
  ]
}